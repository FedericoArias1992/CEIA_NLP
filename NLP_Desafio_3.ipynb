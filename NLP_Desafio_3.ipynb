{
 "cells": [
  {
   "cell_type": "markdown",
   "metadata": {
    "id": "jCKQUrNxFRSy"
   },
   "source": [
    "# CEIA FIUBA LSE\n",
    "- **Materia**: NLP\n",
    "- **Cohorte**: 16\n",
    "- **Alumno**: Federico Arias Suarez\n",
    "- Desafio # 3"
   ]
  },
  {
   "cell_type": "markdown",
   "metadata": {
    "id": "jfn_JgbfFpDA"
   },
   "source": [
    "# Consigna:\n",
    "Utilizar otro dataset y poner en práctica la predicción de próxima palabra\n",
    "\n",
    "El objetivo es utilizar documentos / corpus para crear embeddings de palabras basado en ese contexto utilizando la layer Embedding de Keras. Se utilizará esos embeddings junto con layers LSTM para predeccir la próxima posible palabra.\n",
    "\n",
    "**Detalle Consigna:**\n",
    "- Seleccionar un corpus de texto sobre el cual entrenar el modelo de lenguaje.\n",
    "- Realizar el pre-procesamiento adecuado para tokenizar el corpus, estructurar el dataset y separar entre datos de entrenamiento y validación.\n",
    "- Proponer arquitecturas de redes neuronales basadas en unidades recurrentes para implementar un modelo de lenguaje.\n",
    "- Con el o los modelos que consideren adecuados, generar nuevas secuencias a partir de secuencias de contexto con las estrategias de greedy search y beam search determístico y estocástico. En este último caso observar el efecto de la temperatura en la generación de secuencias."
   ]
  },
  {
   "cell_type": "code",
   "execution_count": 1,
   "metadata": {
    "id": "6FZWSk-wERLP"
   },
   "outputs": [],
   "source": [
    "import random\n",
    "import io\n",
    "import pickle\n",
    "\n",
    "import numpy as np\n",
    "import pandas as pd\n",
    "import matplotlib.pyplot as plt\n",
    "import seaborn as sns\n",
    "\n",
    "import tensorflow as tf"
   ]
  },
  {
   "cell_type": "markdown",
   "metadata": {
    "id": "1-rHuTdOH_G5"
   },
   "source": [
    "Para el desafio vamos a usar el dataset:\n",
    "\n",
    "https://www.kaggle.com/datasets/psyflow/reddit-conversation-dataset\n",
    "\n",
    "Que consiste en comentarios en Reddit"
   ]
  },
  {
   "cell_type": "markdown",
   "metadata": {
    "id": "8y99am2lICRS"
   },
   "source": [
    "# Subir kaggle.json a Google Colab:"
   ]
  },
  {
   "cell_type": "code",
   "execution_count": null,
   "metadata": {
    "colab": {
     "base_uri": "https://localhost:8080/",
     "height": 88
    },
    "collapsed": true,
    "id": "ccqv16UCGXQv",
    "outputId": "480aff6e-e400-4e73-a2f2-1ba77ee050fd"
   },
   "outputs": [],
   "source": [
    "from google.colab import files\n",
    "files.upload()"
   ]
  },
  {
   "cell_type": "code",
   "execution_count": 3,
   "metadata": {
    "id": "bA2pSr15IOdq"
   },
   "outputs": [],
   "source": [
    "import os\n",
    "import zipfile\n",
    "\n",
    "# Mueve kaggle.json a la carpeta de configuración de Kaggle\n",
    "!mkdir -p ~/.kaggle\n",
    "!mv kaggle.json ~/.kaggle/\n",
    "!chmod 600 ~/.kaggle/kaggle.json  # Cambia los permisos del archivo\n"
   ]
  },
  {
   "cell_type": "markdown",
   "metadata": {
    "id": "KyO4KwWiIZVu"
   },
   "source": [
    "# Descargar el dataset:"
   ]
  },
  {
   "cell_type": "code",
   "execution_count": 4,
   "metadata": {
    "colab": {
     "base_uri": "https://localhost:8080/"
    },
    "collapsed": true,
    "id": "RLwdCiKWIQO9",
    "outputId": "ed2294bb-973a-4977-f566-81d06e46d551"
   },
   "outputs": [
    {
     "name": "stdout",
     "output_type": "stream",
     "text": [
      "Dataset URL: https://www.kaggle.com/datasets/psyflow/reddit-conversation-dataset\n",
      "License(s): unknown\n",
      "Downloading reddit-conversation-dataset.zip to /content\n",
      "100% 2.50G/2.51G [00:37<00:00, 20.9MB/s]\n",
      "100% 2.51G/2.51G [00:38<00:00, 70.5MB/s]\n"
     ]
    }
   ],
   "source": [
    "# Descarga el dataset de Kaggle\n",
    "!kaggle datasets download -d psyflow/reddit-conversation-dataset"
   ]
  },
  {
   "cell_type": "code",
   "execution_count": 5,
   "metadata": {
    "id": "DlBJG0usJCRH"
   },
   "outputs": [],
   "source": [
    "# Descomprime el archivo descargado\n",
    "with zipfile.ZipFile(\"reddit-conversation-dataset.zip\", \"r\") as zip_ref:\n",
    "    zip_ref.extractall(\"reddit_conversations\")\n"
   ]
  },
  {
   "cell_type": "code",
   "execution_count": 6,
   "metadata": {
    "id": "lI-bCSolJ9eV"
   },
   "outputs": [],
   "source": [
    "# Descomprimimos:\n",
    "import tarfile\n",
    "\n",
    "# Descomprime el archivo .tgz\n",
    "tgz_path = \"reddit_conversations/reddit_conversations_v1.0_3turns.topical.tgz\"\n",
    "with tarfile.open(tgz_path, \"r:gz\") as tar:\n",
    "    tar.extractall(\"reddit_conversations_extracted\")\n",
    "\n",
    "# Ahora puedes explorar los archivos extraídos\n"
   ]
  },
  {
   "cell_type": "code",
   "execution_count": 7,
   "metadata": {
    "colab": {
     "base_uri": "https://localhost:8080/"
    },
    "id": "XA7bruKnL7Tq",
    "outputId": "e8e0d1dd-7c51-43ee-8fbb-b3e7da8c39d3"
   },
   "outputs": [
    {
     "name": "stdout",
     "output_type": "stream",
     "text": [
      "['if it were just the top line i \\'d give it a thumbs up . no tastiness . no 50 shades of grey thank you .\\ti really like \" steel encased in velvet \" as a simile to be fair .\\tbut is it an apt description of hard - on in your mouth ?\\tlooks like look good love thanks nice great beautiful awesome amazing thank looking cake cool ve man wow bear pretty haha lol right url re know ll damn work job sure got seen kind way picture think happy definitely bears best dude time thing yeah perfect thought better looked gorgeous sweet glad sharing want actually holy makes favorite sounds going hey reminds fantastic hope recipe super incredible pic absolutely delicious making people yes god shit try style kinda maybe tell lovely little probably find face idea sorry feel share day cute enjoy jealous mind post fucking seeing edit need photo', \"if they stopped selling plastic bottles then people would bring their own bottles as like everyone takes water to the park no ?\\thow about selling non plastic bottles ? did that ever occur to you ?\\tare they ever going to consider that ? no . what material other than plastic would you use that people are n't going to litter anyway ?\\tuse oil plastic re buy bags like bag ve stuff trash people food paper work water things good better time works need store garbage right way cheap know hand actually throw years ones ll bottles brand ink want money bottle instead expensive thing sure machine pretty coffee buying extra yeah knives wrap got cans coins going cheaper think makes fine handed cups save soda sugar knife pen costco bad shit left tip waste great lpt free point probably vinegar dollar easier etc printer making glass organic recycling bought cup cost cents grocery products life away usually coconut machines end scissors\", \"pretty sure i listened to a podcast interview with a guy who experinced a similar story . it ended with a sword fight .\\tyou ca nt just talk about a sword fight without providing more details . that 's just not right .\\ti hunted this down just for you . <url>\\tfight batman like fighting superman guy punch beat think re fights people going boxing joker know shit bruce mayweather man way time mcgregor probably ll kill yeah got force pretty fuck actually good mma face death sure fighter right floyd bat best hit gon fucking dude ali martial point ve thing wayne trying head better gets hero getting killed world punches punching let watch mean end lol real guys money match hard win dark life want said maybe knocked fighters punched justice power battle knight ass arts kick need times look fought away beating gotham vader thought saying old opponent\", 'everyone has off days\\twell not everyone but most people do on saturday\\tforgive me brether\\tday days week time work going today year ll weekend tomorrow hours weeks friday night ve month hour good home months like got ago sunday monday early morning saturday new re yesterday late years wait long getting summer right know pretty working hope excited gon schedule july tuesday soon thursday start vacation nice thanks coming end best waiting sure fun tonight great come date probably holiday people later yeah june forward happy better finally wednesday august weekends went october birthday way sounds feel extra hopefully thing lol minutes want awesome yes luck having september maybe actually currently rest life bad', \"no i got the argument , it just was n't a good one .\\tclearly you did n't . it was n't an argument . it was an observation . and ' good ' is a relative concept .\\teh , you were dragging in a topic that barely were related to the discussion at hand to throw shade at dems , so no , not that relative .\\tpeople think re point like argument saying wrong different things mean way know understand agree true comment sense opinion person yes example right human view based evidence said change makes actually definition fact brain thing time means believe exactly sure reason read idea life good logic exist talking argue disagree case matter need want problem difference better simply question sorry ve use mind arguing important explain link arguments science thought understanding trying world statement correct issue society discussion claim completely making possible url aware interesting thinking reality study self having research post bad theory meaning value work context nature non\"]\n",
      "Total de líneas cargadas: 900\n",
      "Tamaño total del texto: 734695 caracteres\n"
     ]
    }
   ],
   "source": [
    "# Ruta al archivo de texto\n",
    "file_path = \"reddit_conversations_extracted/reddit_conversations.3turns.train.topical.txt\"\n",
    "\n",
    "corpus = []\n",
    "#El dataset es MUY grande y siempre colapsa la RAM, asi que vamos a cargar los datos hasta un limite\n",
    "max_lines = 900  # Ajustado según no explote la RAM y no se reinicie el notebook\n",
    "max_length = 10**6  # Idem, / no se sature la ram\n",
    "current_length = 0  # Inicializa el contador de longitud\n",
    "\n",
    "with open(file_path, 'r') as f:\n",
    "    for line in f:\n",
    "        if len(corpus) >= max_lines or current_length >= max_length:\n",
    "            break  # Detén la carga si alcanzas el límite de líneas o longitud\n",
    "        line = line.strip()\n",
    "        corpus.append(line)\n",
    "        current_length += len(line)\n",
    "\n",
    "# corpus es ahora una lista de líneas, con un tamaño limitado\n",
    "# Concatenamos las líneas en una sola cadena:\n",
    "full_text = \" \".join(corpus)\n",
    "\n",
    "# Ver una muestra del corpus\n",
    "print(corpus[:5])  # Muestra las primeras 5 líneas\n",
    "print(f\"Total de líneas cargadas: {len(corpus)}\")\n",
    "print(f\"Tamaño total del texto: {current_length} caracteres\")\n"
   ]
  },
  {
   "cell_type": "markdown",
   "metadata": {
    "id": "vPJ0kq9UN1D6"
   },
   "source": [
    "# Preprocesamiento:\n",
    "- Hay que transformar las oraciones en tokens. Haremos tokenizacion a nivel caracter.\n",
    "- Dichas oraciones hay que ajustarlas al tamaño fijo de nuestra sentencia de entrada al modelo.\n",
    "- Hay que separar las palabras objetivos (target) que el modelo debe predecir en cada sentencia armada."
   ]
  },
  {
   "cell_type": "code",
   "execution_count": 9,
   "metadata": {
    "colab": {
     "base_uri": "https://localhost:8080/"
    },
    "id": "rKIO4Fsj8Oag",
    "outputId": "f310bda8-2135-4c6a-e62b-9b96af34ea77"
   },
   "outputs": [
    {
     "name": "stdout",
     "output_type": "stream",
     "text": [
      "Tamaño del vocabulario (caracteres únicos): 69\n",
      "Ejemplo de índices: [47, 44, 3, 47, 58, 3, 61, 43, 56, 43, 3, 48, 59, 57, 58, 3, 58, 46, 43, 3, 58, 53, 54, 3, 50, 47, 52, 43, 3, 47, 3, 10, 42, 3, 45, 47, 60, 43, 3, 47, 58, 3, 39, 3, 58, 46, 59, 51, 40, 57, 3, 59, 54, 3, 17, 3, 52, 53, 3, 58, 39, 57, 58, 47, 52, 43, 57, 57, 3, 17, 3, 52, 53, 3, 24, 19, 3, 57, 46, 39, 42, 43, 57, 3, 53, 44, 3, 45, 56, 43, 63, 3, 58, 46, 39, 52, 49, 3, 63, 53]\n"
     ]
    }
   ],
   "source": [
    "# Como queremos predecir a nivel de caracteres, primero crearemos un vocabulario con los caracteres únicos en el full_text.\n",
    "# Extrae los caracteres únicos y crea un vocabulario\n",
    "unique_chars = sorted(set(full_text))\n",
    "char_to_idx = {char: idx for idx, char in enumerate(unique_chars)}\n",
    "idx_to_char = {idx: char for idx, char in enumerate(unique_chars)}\n",
    "\n",
    "# Convierte el texto completo a una lista de índices (tokenización por caracteres)\n",
    "text_as_int = [char_to_idx[char] for char in full_text]\n",
    "\n",
    "# Verifica la longitud del vocabulario y algunos ejemplos\n",
    "vocab_size = len(unique_chars)\n",
    "print(f\"Tamaño del vocabulario (caracteres únicos): {vocab_size}\")\n",
    "print(f\"Ejemplo de índices: {text_as_int[:100]}\")\n"
   ]
  },
  {
   "cell_type": "markdown",
   "metadata": {
    "id": "hACF6p-_C36L"
   },
   "source": [
    "Vamos a definir un flujo de trabajo *many to many* tal que para cada secuencia de entrada de longitud m, el modelo también aprenda y predecir una secuencia de salida de longitud n. Esto significa que el modelo aprende a generar varios caracteres en la salida, no solo uno."
   ]
  },
  {
   "cell_type": "code",
   "execution_count": 12,
   "metadata": {
    "colab": {
     "base_uri": "https://localhost:8080/"
    },
    "id": "xdw26feK8dJr",
    "outputId": "fc169df8-cdf9-4d58-a1ea-b370554380c4"
   },
   "outputs": [
    {
     "name": "stdout",
     "output_type": "stream",
     "text": [
      "Número total de secuencias de entrada: 735579\n",
      "Ejemplo de secuencia de entrada: [44, 3, 47, 58, 3, 61, 43, 56, 43, 3, 48, 59, 57, 58, 3]\n",
      "Ejemplo de secuencia de salida: [58, 46, 43, 3, 58]\n"
     ]
    }
   ],
   "source": [
    "# Definiremos las secuencias de entrada y salida basándonos en los valores de m=15 y n=5.\n",
    "# Usaremos ventanas deslizantes para crear cada secuencia de entrada de 25 caracteres y\n",
    "# una secuencia de salida de 15 caracteres, moviendo una posición a la vez para maximizar el número de pares.\n",
    "\n",
    "m = 15  # Longitud de la secuencia de entrada: valor quizas no optimo, pero sino se satura la RAM\n",
    "n = 5  # Longitud de la secuencia de salida: valor quizas no optimo, pero sino se satura la RAM\n",
    "\n",
    "# Prepara las secuencias de entrada y salida\n",
    "input_sequences = []\n",
    "output_sequences = []\n",
    "\n",
    "for i in range(0, len(text_as_int) - m):\n",
    "    # Secuencia de entrada de 'm' caracteres\n",
    "    input_seq = text_as_int[i : i + m]\n",
    "    # Secuencia de salida de 'n' caracteres justo después de la entrada\n",
    "    output_seq = text_as_int[i + m : i + m + n]  # Desplaza la salida en n respecto a la entrada\n",
    "\n",
    "    input_sequences.append(input_seq)\n",
    "    output_sequences.append(output_seq)\n",
    "\n",
    "# Muestra algunos ejemplos\n",
    "print(f\"Número total de secuencias de entrada: {len(input_sequences)}\")\n",
    "print(\"Ejemplo de secuencia de entrada:\", input_sequences[1])\n",
    "print(\"Ejemplo de secuencia de salida:\", output_sequences[1])\n"
   ]
  },
  {
   "cell_type": "markdown",
   "metadata": {
    "id": "tHSgXUGaDcIo"
   },
   "source": [
    "Vemos que para cada secuencia, el output_sequences nos entrega los siguientes 10 caracteres."
   ]
  },
  {
   "cell_type": "markdown",
   "metadata": {
    "id": "rNSsaPWo06vT"
   },
   "source": [
    " Dividir el Corpus en Fragmentos Uniformes"
   ]
  },
  {
   "cell_type": "code",
   "execution_count": 24,
   "metadata": {
    "id": "0sGpGP0J08KR"
   },
   "outputs": [],
   "source": [
    "fragment_length = m + n  # Longitud mínima de cada fragmento\n",
    "fragments = [text_as_int[i:i + fragment_length] for i in range(0, len(text_as_int), fragment_length)]\n",
    "\n",
    "# Filtrar fragmentos que no tienen suficiente longitud\n",
    "fragments = [frag for frag in fragments if len(frag) >= fragment_length]\n"
   ]
  },
  {
   "cell_type": "code",
   "execution_count": 25,
   "metadata": {
    "id": "b2kDwGnV2Wsg"
   },
   "outputs": [],
   "source": [
    "# Dividir los fragmentos en entrenamiento y validación\n",
    "train_size = int(0.8 * len(fragments))\n",
    "train_fragments = fragments[:train_size]\n",
    "val_fragments = fragments[train_size:]\n"
   ]
  },
  {
   "cell_type": "code",
   "execution_count": 26,
   "metadata": {
    "id": "iGciZsqD125v"
   },
   "outputs": [],
   "source": [
    "# Para entrenamienro:\n",
    "input_sequences_train = []\n",
    "output_sequences_train = []\n",
    "\n",
    "for frag in train_fragments:\n",
    "    for i in range(len(frag) - m - n + 1):\n",
    "        input_seq = frag[i : i + m]  # Secuencia de entrada de longitud m\n",
    "        output_seq = frag[i + m : i + m + n]  # Secuencia de salida de longitud n\n",
    "        input_sequences_train.append(input_seq)\n",
    "        output_sequences_train.append(output_seq)\n"
   ]
  },
  {
   "cell_type": "code",
   "execution_count": 27,
   "metadata": {
    "id": "9dQWmByq16lx"
   },
   "outputs": [],
   "source": [
    "# Para Validación\n",
    "input_sequences_val = []\n",
    "output_sequences_val = []\n",
    "\n",
    "for frag in val_fragments:\n",
    "    for i in range(len(frag) - m - n + 1):\n",
    "        input_seq = frag[i : i + m]  # Secuencia de entrada de longitud m\n",
    "        output_seq = frag[i + m : i + m + n]  # Secuencia de salida de longitud n\n",
    "        input_sequences_val.append(input_seq)\n",
    "        output_sequences_val.append(output_seq)\n"
   ]
  },
  {
   "cell_type": "markdown",
   "metadata": {
    "id": "ojHTK5zn9CLM"
   },
   "source": [
    "# Definimos el Dataset"
   ]
  },
  {
   "cell_type": "code",
   "execution_count": 41,
   "metadata": {
    "colab": {
     "base_uri": "https://localhost:8080/"
    },
    "id": "n-Xp-E-k2ksr",
    "outputId": "e5e4f6e7-833f-4d95-8228-aa8462cd1821"
   },
   "outputs": [
    {
     "name": "stdout",
     "output_type": "stream",
     "text": [
      "Forma de x: (128, 15), Forma de y (one-hot): (128, 5, 69)\n",
      "Forma de x: (128, 15), Forma de y (one-hot): (128, 5, 69)\n"
     ]
    }
   ],
   "source": [
    "# Función para aplicar `to_categorical` a `output_sequences` en cada lote, ya que se trata de un problema de clasificacion\n",
    "def process_output(x, y):\n",
    "    y = tf.keras.utils.to_categorical(y, num_classes=vocab_size)\n",
    "    print(f\"Forma de x: {x.shape}, Forma de y (one-hot): {y.shape}\")\n",
    "    return x, y\n",
    "\n",
    "batch_size = 128\n",
    "\n",
    "# Crear datasets de TensorFlow\n",
    "train_dataset = tf.data.Dataset.from_tensor_slices((input_sequences_train, output_sequences_train))\n",
    "val_dataset = tf.data.Dataset.from_tensor_slices((input_sequences_val, output_sequences_val))\n",
    "\n",
    "# Aplicar `to_categorical` y procesamiento\n",
    "train_dataset = train_dataset.batch(batch_size, drop_remainder=True).map(process_output).prefetch(tf.data.AUTOTUNE)\n",
    "val_dataset = val_dataset.batch(batch_size, drop_remainder=True).map(process_output).prefetch(tf.data.AUTOTUNE)\n"
   ]
  },
  {
   "cell_type": "code",
   "execution_count": 40,
   "metadata": {
    "colab": {
     "base_uri": "https://localhost:8080/"
    },
    "id": "breCTKJK3_4Y",
    "outputId": "b6351e75-633c-484e-93d5-a7d7cc865bc1"
   },
   "outputs": [
    {
     "name": "stdout",
     "output_type": "stream",
     "text": [
      "Forma de input_sequences_train: (29423, 15)\n",
      "Forma de output_sequences_train: (29423, 5)\n"
     ]
    }
   ],
   "source": [
    "print(f\"Forma de input_sequences_train: {np.array(input_sequences_train).shape}\")\n",
    "print(f\"Forma de output_sequences_train: {np.array(output_sequences_train).shape}\")\n"
   ]
  },
  {
   "cell_type": "markdown",
   "metadata": {
    "id": "H_X4ypFa9c8G"
   },
   "source": [
    "# Definir la Arquitectura de la RNN con LSTM\n",
    "\n",
    "- **Capa Embedding**: Transformará los índices de caracteres en vectores densos, facilitando que el modelo aprenda relaciones entre caracteres.\n",
    "- **Capas LSTM**: Utilizaremos dos capas LSTM para capturar la secuencia temporal.\n",
    "- **Capa Densa de Salida**: Finalmente, una capa densa con activación softmax producirá una distribución de probabilidad sobre los caracteres del vocabulario, permitiendo que el modelo prediga cada carácter en la secuencia de salida."
   ]
  },
  {
   "cell_type": "code",
   "execution_count": 51,
   "metadata": {
    "colab": {
     "base_uri": "https://localhost:8080/",
     "height": 289
    },
    "id": "WtuyF2E29qLg",
    "outputId": "9ad530e3-810d-43f3-acff-2a296d6f2953"
   },
   "outputs": [
    {
     "data": {
      "text/html": [
       "<pre style=\"white-space:pre;overflow-x:auto;line-height:normal;font-family:Menlo,'DejaVu Sans Mono',consolas,'Courier New',monospace\"><span style=\"font-weight: bold\">Model: \"sequential_8\"</span>\n",
       "</pre>\n"
      ],
      "text/plain": [
       "\u001b[1mModel: \"sequential_8\"\u001b[0m\n"
      ]
     },
     "metadata": {},
     "output_type": "display_data"
    },
    {
     "data": {
      "text/html": [
       "<pre style=\"white-space:pre;overflow-x:auto;line-height:normal;font-family:Menlo,'DejaVu Sans Mono',consolas,'Courier New',monospace\">┏━━━━━━━━━━━━━━━━━━━━━━━━━━━━━━━━━━━━━━┳━━━━━━━━━━━━━━━━━━━━━━━━━━━━━┳━━━━━━━━━━━━━━━━━┓\n",
       "┃<span style=\"font-weight: bold\"> Layer (type)                         </span>┃<span style=\"font-weight: bold\"> Output Shape                </span>┃<span style=\"font-weight: bold\">         Param # </span>┃\n",
       "┡━━━━━━━━━━━━━━━━━━━━━━━━━━━━━━━━━━━━━━╇━━━━━━━━━━━━━━━━━━━━━━━━━━━━━╇━━━━━━━━━━━━━━━━━┩\n",
       "│ embedding_8 (<span style=\"color: #0087ff; text-decoration-color: #0087ff\">Embedding</span>)              │ ?                           │     <span style=\"color: #00af00; text-decoration-color: #00af00\">0</span> (unbuilt) │\n",
       "├──────────────────────────────────────┼─────────────────────────────┼─────────────────┤\n",
       "│ lstm_16 (<span style=\"color: #0087ff; text-decoration-color: #0087ff\">LSTM</span>)                       │ ?                           │     <span style=\"color: #00af00; text-decoration-color: #00af00\">0</span> (unbuilt) │\n",
       "├──────────────────────────────────────┼─────────────────────────────┼─────────────────┤\n",
       "│ lstm_17 (<span style=\"color: #0087ff; text-decoration-color: #0087ff\">LSTM</span>)                       │ ?                           │     <span style=\"color: #00af00; text-decoration-color: #00af00\">0</span> (unbuilt) │\n",
       "├──────────────────────────────────────┼─────────────────────────────┼─────────────────┤\n",
       "│ dense_8 (<span style=\"color: #0087ff; text-decoration-color: #0087ff\">Dense</span>)                      │ ?                           │     <span style=\"color: #00af00; text-decoration-color: #00af00\">0</span> (unbuilt) │\n",
       "├──────────────────────────────────────┼─────────────────────────────┼─────────────────┤\n",
       "│ reshape (<span style=\"color: #0087ff; text-decoration-color: #0087ff\">Reshape</span>)                    │ ?                           │     <span style=\"color: #00af00; text-decoration-color: #00af00\">0</span> (unbuilt) │\n",
       "└──────────────────────────────────────┴─────────────────────────────┴─────────────────┘\n",
       "</pre>\n"
      ],
      "text/plain": [
       "┏━━━━━━━━━━━━━━━━━━━━━━━━━━━━━━━━━━━━━━┳━━━━━━━━━━━━━━━━━━━━━━━━━━━━━┳━━━━━━━━━━━━━━━━━┓\n",
       "┃\u001b[1m \u001b[0m\u001b[1mLayer (type)                        \u001b[0m\u001b[1m \u001b[0m┃\u001b[1m \u001b[0m\u001b[1mOutput Shape               \u001b[0m\u001b[1m \u001b[0m┃\u001b[1m \u001b[0m\u001b[1m        Param #\u001b[0m\u001b[1m \u001b[0m┃\n",
       "┡━━━━━━━━━━━━━━━━━━━━━━━━━━━━━━━━━━━━━━╇━━━━━━━━━━━━━━━━━━━━━━━━━━━━━╇━━━━━━━━━━━━━━━━━┩\n",
       "│ embedding_8 (\u001b[38;5;33mEmbedding\u001b[0m)              │ ?                           │     \u001b[38;5;34m0\u001b[0m (unbuilt) │\n",
       "├──────────────────────────────────────┼─────────────────────────────┼─────────────────┤\n",
       "│ lstm_16 (\u001b[38;5;33mLSTM\u001b[0m)                       │ ?                           │     \u001b[38;5;34m0\u001b[0m (unbuilt) │\n",
       "├──────────────────────────────────────┼─────────────────────────────┼─────────────────┤\n",
       "│ lstm_17 (\u001b[38;5;33mLSTM\u001b[0m)                       │ ?                           │     \u001b[38;5;34m0\u001b[0m (unbuilt) │\n",
       "├──────────────────────────────────────┼─────────────────────────────┼─────────────────┤\n",
       "│ dense_8 (\u001b[38;5;33mDense\u001b[0m)                      │ ?                           │     \u001b[38;5;34m0\u001b[0m (unbuilt) │\n",
       "├──────────────────────────────────────┼─────────────────────────────┼─────────────────┤\n",
       "│ reshape (\u001b[38;5;33mReshape\u001b[0m)                    │ ?                           │     \u001b[38;5;34m0\u001b[0m (unbuilt) │\n",
       "└──────────────────────────────────────┴─────────────────────────────┴─────────────────┘\n"
      ]
     },
     "metadata": {},
     "output_type": "display_data"
    },
    {
     "data": {
      "text/html": [
       "<pre style=\"white-space:pre;overflow-x:auto;line-height:normal;font-family:Menlo,'DejaVu Sans Mono',consolas,'Courier New',monospace\"><span style=\"font-weight: bold\"> Total params: </span><span style=\"color: #00af00; text-decoration-color: #00af00\">0</span> (0.00 B)\n",
       "</pre>\n"
      ],
      "text/plain": [
       "\u001b[1m Total params: \u001b[0m\u001b[38;5;34m0\u001b[0m (0.00 B)\n"
      ]
     },
     "metadata": {},
     "output_type": "display_data"
    },
    {
     "data": {
      "text/html": [
       "<pre style=\"white-space:pre;overflow-x:auto;line-height:normal;font-family:Menlo,'DejaVu Sans Mono',consolas,'Courier New',monospace\"><span style=\"font-weight: bold\"> Trainable params: </span><span style=\"color: #00af00; text-decoration-color: #00af00\">0</span> (0.00 B)\n",
       "</pre>\n"
      ],
      "text/plain": [
       "\u001b[1m Trainable params: \u001b[0m\u001b[38;5;34m0\u001b[0m (0.00 B)\n"
      ]
     },
     "metadata": {},
     "output_type": "display_data"
    },
    {
     "data": {
      "text/html": [
       "<pre style=\"white-space:pre;overflow-x:auto;line-height:normal;font-family:Menlo,'DejaVu Sans Mono',consolas,'Courier New',monospace\"><span style=\"font-weight: bold\"> Non-trainable params: </span><span style=\"color: #00af00; text-decoration-color: #00af00\">0</span> (0.00 B)\n",
       "</pre>\n"
      ],
      "text/plain": [
       "\u001b[1m Non-trainable params: \u001b[0m\u001b[38;5;34m0\u001b[0m (0.00 B)\n"
      ]
     },
     "metadata": {},
     "output_type": "display_data"
    }
   ],
   "source": [
    "from tensorflow.keras.models import Sequential\n",
    "from tensorflow.keras.layers import Embedding, LSTM, Dense, Reshape\n",
    "\n",
    "# Parámetros del modelo\n",
    "vocab_size = len(char_to_idx)\n",
    "embedding_dim = 5\n",
    "lstm_units = 128\n",
    "m = 15  # Longitud de entrada\n",
    "n = 5   # Longitud de salida\n",
    "\n",
    "# Definición del modelo\n",
    "model = Sequential([\n",
    "    Embedding(input_dim=vocab_size, output_dim=embedding_dim, input_length=m),\n",
    "    LSTM(units=lstm_units, return_sequences=True),\n",
    "    LSTM(units=lstm_units, return_sequences=False),\n",
    "    Dense(units=n * vocab_size, activation='softmax'),  # Salida plana\n",
    "    Reshape((n, vocab_size))  # Reestructura la salida a (batch_size, n, vocab_size)\n",
    "])\n",
    "\n",
    "# Compilación del modelo\n",
    "model.compile(optimizer='adam', loss='categorical_crossentropy', metrics=['accuracy'])\n",
    "\n",
    "# Resumen del modelo\n",
    "model.summary()\n"
   ]
  },
  {
   "cell_type": "code",
   "execution_count": 76,
   "metadata": {
    "colab": {
     "base_uri": "https://localhost:8080/"
    },
    "id": "oOt-Z5YYGT3S",
    "outputId": "fc002c46-0f4d-4de9-8ee3-1fed4045c799"
   },
   "outputs": [
    {
     "name": "stdout",
     "output_type": "stream",
     "text": [
      "Epoch 1/20\n",
      "\u001b[1m229/229\u001b[0m \u001b[32m━━━━━━━━━━━━━━━━━━━━\u001b[0m\u001b[37m\u001b[0m \u001b[1m46s\u001b[0m 199ms/step - accuracy: 0.3175 - loss: 2.3289 - val_accuracy: 0.2686 - val_loss: 2.5902\n",
      "Epoch 2/20\n",
      "\u001b[1m229/229\u001b[0m \u001b[32m━━━━━━━━━━━━━━━━━━━━\u001b[0m\u001b[37m\u001b[0m \u001b[1m72s\u001b[0m 158ms/step - accuracy: 0.3184 - loss: 2.3244 - val_accuracy: 0.2685 - val_loss: 2.5923\n",
      "Epoch 3/20\n",
      "\u001b[1m229/229\u001b[0m \u001b[32m━━━━━━━━━━━━━━━━━━━━\u001b[0m\u001b[37m\u001b[0m \u001b[1m43s\u001b[0m 189ms/step - accuracy: 0.3197 - loss: 2.3194 - val_accuracy: 0.2684 - val_loss: 2.5931\n",
      "Epoch 4/20\n",
      "\u001b[1m229/229\u001b[0m \u001b[32m━━━━━━━━━━━━━━━━━━━━\u001b[0m\u001b[37m\u001b[0m \u001b[1m87s\u001b[0m 210ms/step - accuracy: 0.3207 - loss: 2.3144 - val_accuracy: 0.2692 - val_loss: 2.5927\n",
      "Epoch 5/20\n",
      "\u001b[1m229/229\u001b[0m \u001b[32m━━━━━━━━━━━━━━━━━━━━\u001b[0m\u001b[37m\u001b[0m \u001b[1m67s\u001b[0m 145ms/step - accuracy: 0.3222 - loss: 2.3096 - val_accuracy: 0.2685 - val_loss: 2.5931\n",
      "Epoch 6/20\n",
      "\u001b[1m229/229\u001b[0m \u001b[32m━━━━━━━━━━━━━━━━━━━━\u001b[0m\u001b[37m\u001b[0m \u001b[1m51s\u001b[0m 190ms/step - accuracy: 0.3228 - loss: 2.3046 - val_accuracy: 0.2688 - val_loss: 2.5941\n",
      "Epoch 7/20\n",
      "\u001b[1m229/229\u001b[0m \u001b[32m━━━━━━━━━━━━━━━━━━━━\u001b[0m\u001b[37m\u001b[0m \u001b[1m72s\u001b[0m 148ms/step - accuracy: 0.3248 - loss: 2.2991 - val_accuracy: 0.2684 - val_loss: 2.5945\n",
      "Epoch 8/20\n",
      "\u001b[1m229/229\u001b[0m \u001b[32m━━━━━━━━━━━━━━━━━━━━\u001b[0m\u001b[37m\u001b[0m \u001b[1m51s\u001b[0m 192ms/step - accuracy: 0.3264 - loss: 2.2934 - val_accuracy: 0.2680 - val_loss: 2.5971\n",
      "Epoch 9/20\n",
      "\u001b[1m229/229\u001b[0m \u001b[32m━━━━━━━━━━━━━━━━━━━━\u001b[0m\u001b[37m\u001b[0m \u001b[1m80s\u001b[0m 181ms/step - accuracy: 0.3284 - loss: 2.2882 - val_accuracy: 0.2683 - val_loss: 2.5979\n",
      "Epoch 10/20\n",
      "\u001b[1m229/229\u001b[0m \u001b[32m━━━━━━━━━━━━━━━━━━━━\u001b[0m\u001b[37m\u001b[0m \u001b[1m75s\u001b[0m 150ms/step - accuracy: 0.3297 - loss: 2.2829 - val_accuracy: 0.2681 - val_loss: 2.6015\n",
      "Epoch 11/20\n",
      "\u001b[1m229/229\u001b[0m \u001b[32m━━━━━━━━━━━━━━━━━━━━\u001b[0m\u001b[37m\u001b[0m \u001b[1m49s\u001b[0m 184ms/step - accuracy: 0.3316 - loss: 2.2778 - val_accuracy: 0.2685 - val_loss: 2.6018\n",
      "Epoch 12/20\n",
      "\u001b[1m229/229\u001b[0m \u001b[32m━━━━━━━━━━━━━━━━━━━━\u001b[0m\u001b[37m\u001b[0m \u001b[1m73s\u001b[0m 144ms/step - accuracy: 0.3332 - loss: 2.2725 - val_accuracy: 0.2684 - val_loss: 2.6034\n",
      "Epoch 13/20\n",
      "\u001b[1m229/229\u001b[0m \u001b[32m━━━━━━━━━━━━━━━━━━━━\u001b[0m\u001b[37m\u001b[0m \u001b[1m51s\u001b[0m 186ms/step - accuracy: 0.3345 - loss: 2.2671 - val_accuracy: 0.2691 - val_loss: 2.6053\n",
      "Epoch 14/20\n",
      "\u001b[1m229/229\u001b[0m \u001b[32m━━━━━━━━━━━━━━━━━━━━\u001b[0m\u001b[37m\u001b[0m \u001b[1m73s\u001b[0m 149ms/step - accuracy: 0.3358 - loss: 2.2620 - val_accuracy: 0.2692 - val_loss: 2.6060\n",
      "Epoch 15/20\n",
      "\u001b[1m229/229\u001b[0m \u001b[32m━━━━━━━━━━━━━━━━━━━━\u001b[0m\u001b[37m\u001b[0m \u001b[1m51s\u001b[0m 194ms/step - accuracy: 0.3368 - loss: 2.2566 - val_accuracy: 0.2694 - val_loss: 2.6085\n",
      "Epoch 16/20\n",
      "\u001b[1m229/229\u001b[0m \u001b[32m━━━━━━━━━━━━━━━━━━━━\u001b[0m\u001b[37m\u001b[0m \u001b[1m74s\u001b[0m 160ms/step - accuracy: 0.3392 - loss: 2.2514 - val_accuracy: 0.2691 - val_loss: 2.6113\n",
      "Epoch 17/20\n",
      "\u001b[1m229/229\u001b[0m \u001b[32m━━━━━━━━━━━━━━━━━━━━\u001b[0m\u001b[37m\u001b[0m \u001b[1m45s\u001b[0m 196ms/step - accuracy: 0.3400 - loss: 2.2463 - val_accuracy: 0.2690 - val_loss: 2.6124\n",
      "Epoch 18/20\n",
      "\u001b[1m229/229\u001b[0m \u001b[32m━━━━━━━━━━━━━━━━━━━━\u001b[0m\u001b[37m\u001b[0m \u001b[1m34s\u001b[0m 148ms/step - accuracy: 0.3420 - loss: 2.2410 - val_accuracy: 0.2689 - val_loss: 2.6141\n",
      "Epoch 19/20\n",
      "\u001b[1m229/229\u001b[0m \u001b[32m━━━━━━━━━━━━━━━━━━━━\u001b[0m\u001b[37m\u001b[0m \u001b[1m50s\u001b[0m 220ms/step - accuracy: 0.3438 - loss: 2.2358 - val_accuracy: 0.2678 - val_loss: 2.6160\n",
      "Epoch 20/20\n",
      "\u001b[1m229/229\u001b[0m \u001b[32m━━━━━━━━━━━━━━━━━━━━\u001b[0m\u001b[37m\u001b[0m \u001b[1m34s\u001b[0m 149ms/step - accuracy: 0.3453 - loss: 2.2306 - val_accuracy: 0.2691 - val_loss: 2.6168\n"
     ]
    }
   ],
   "source": [
    "# Entrena el modelo y almacena el objeto history\n",
    "history = model.fit(\n",
    "    train_dataset,\n",
    "    validation_data=val_dataset,\n",
    "    epochs=20  # Ajusta el número de épocas según sea necesario\n",
    ")"
   ]
  },
  {
   "cell_type": "code",
   "execution_count": 79,
   "metadata": {
    "colab": {
     "base_uri": "https://localhost:8080/",
     "height": 613
    },
    "id": "c6YdcaGVV4Hf",
    "outputId": "7edc8ae2-1140-4ed1-c2ce-41d6197bd4f0"
   },
   "outputs": [
    {
     "name": "stdout",
     "output_type": "stream",
     "text": [
      "Perplejidad de entrenamiento por época: [10.15696402 10.10821573 10.0578524  10.01113828  9.96480031  9.91801233\n",
      "  9.86752618  9.81582488  9.76253922  9.71171679  9.66092399  9.61026165\n",
      "  9.5588485   9.51122008  9.45786054  9.41255961  9.36448786  9.32011634\n",
      "  9.27289256  9.22150105]\n",
      "Perplejidad de validación por época: [13.33197304 13.35994851 13.37086567 13.3663811  13.37102507 13.38429012\n",
      " 13.38947341 13.4241483  13.43584185 13.48443471 13.48785905 13.50993075\n",
      " 13.53584612 13.54438475 13.57901726 13.61670204 13.6323623  13.65543227\n",
      " 13.68091566 13.69168705]\n"
     ]
    },
    {
     "data": {
      "image/png": "[encoded data removed]",
      "text/plain": [
       "<Figure size 640x480 with 1 Axes>"
      ]
     },
     "metadata": {},
     "output_type": "display_data"
    }
   ],
   "source": [
    "# Graficamos perplejidad:\n",
    "# Calcula la perplejidad para entrenamiento y validación usando el historial de pérdidas\n",
    "train_perplexities = np.exp(history.history['loss'])\n",
    "val_perplexities = np.exp(history.history['val_loss'])\n",
    "\n",
    "# Imprime y guarda las perplejidades\n",
    "print(\"Perplejidad de entrenamiento por época:\", train_perplexities)\n",
    "print(\"Perplejidad de validación por época:\", val_perplexities)\n",
    "\n",
    "# Graficar la perplejidad\n",
    "plt.plot(train_perplexities, label='Perplejidad de entrenamiento')\n",
    "plt.plot(val_perplexities, label='Perplejidad de validación')\n",
    "plt.xlabel(\"Épocas\")\n",
    "plt.ylabel(\"Perplejidad\")\n",
    "plt.legend()\n",
    "plt.title(\"Perplejidad durante el Entrenamiento\")\n",
    "plt.grid()\n",
    "plt.show()"
   ]
  },
  {
   "cell_type": "markdown",
   "metadata": {
    "id": "vTzTqfcPZDrn"
   },
   "source": [
    "Vemos que el modelo empieza a sobre entrenarse.\n",
    "\n",
    "*Nota*: Se entreno el modelo por 60 epocas, de a 20 epocas cada una, pero el grafico solo refleja las ultimas 20.\n",
    "El mmotivo fue que es mas controlado ya que no se cuenta con tiempos de GPU en colab."
   ]
  },
  {
   "cell_type": "code",
   "execution_count": 83,
   "metadata": {
    "id": "2lrXcR7enb2b"
   },
   "outputs": [],
   "source": [
    "# Guarda el modelo completo\n",
    "model.save(\"mi_modelo.keras\")"
   ]
  },
  {
   "cell_type": "code",
   "execution_count": null,
   "metadata": {
    "id": "Nz0MiFIS-c0F"
   },
   "outputs": [],
   "source": [
    "from tensorflow.keras.models import load_model\n",
    "\n",
    "# Carga el modelo completo\n",
    "loaded_model = load_model(\"mi_modelo.keras\")\n"
   ]
  },
  {
   "cell_type": "markdown",
   "metadata": {
    "id": "yBbecNfqNMVm"
   },
   "source": [
    "# Predecimos la siguiente secuencia de caracteres:"
   ]
  },
  {
   "cell_type": "code",
   "execution_count": 54,
   "metadata": {
    "id": "XisFWkGeNTRg"
   },
   "outputs": [],
   "source": [
    "def predict_next_chars(model, seed_text, char_to_idx, idx_to_char, n_chars=15):\n",
    "    # Convierte el texto de entrada en una lista de índices\n",
    "    input_indices = [char_to_idx[char] for char in seed_text if char in char_to_idx]\n",
    "\n",
    "    # Asegura que el input sea de longitud `m` para el modelo (completa con espacios si es más corto)\n",
    "    if len(input_indices) < m:\n",
    "        input_indices = [char_to_idx[' ']] * (m - len(input_indices)) + input_indices\n",
    "    else:\n",
    "        input_indices = input_indices[-m:]\n",
    "\n",
    "    # Convierte el input en un array de forma (1, m) para que el modelo lo procese\n",
    "    input_array = np.array(input_indices).reshape(1, -1)\n",
    "\n",
    "    # Genera los siguientes caracteres\n",
    "    generated_text = seed_text\n",
    "    for _ in range(n_chars):\n",
    "        predictions = model.predict(input_array, verbose=0)\n",
    "\n",
    "        # Selecciona el índice de mayor probabilidad para el próximo carácter\n",
    "        next_index = np.argmax(predictions[0, 0])\n",
    "        next_char = idx_to_char[next_index]\n",
    "\n",
    "        # Añade el nuevo carácter al texto generado\n",
    "        generated_text += next_char\n",
    "\n",
    "        # Actualiza el array de input para la próxima predicción\n",
    "        input_indices = input_indices[1:] + [next_index]\n",
    "        input_array = np.array(input_indices).reshape(1, -1)\n",
    "\n",
    "    return generated_text"
   ]
  },
  {
   "cell_type": "code",
   "execution_count": 80,
   "metadata": {
    "colab": {
     "base_uri": "https://localhost:8080/"
    },
    "id": "kOehwGwBNVi_",
    "outputId": "93876ce8-127e-4e33-ca10-6187297c4d63"
   },
   "outputs": [
    {
     "name": "stdout",
     "output_type": "stream",
     "text": [
      "Are you y i thect i 'e\n",
      "opinion, thingh probably\n",
      "Howp the thint a c\n"
     ]
    }
   ],
   "source": [
    "# Prueba con las frases proporcionadas\n",
    "print(predict_next_chars(model, \"Are you\", char_to_idx, idx_to_char, n_chars=15))\n",
    "print(predict_next_chars(model, \"opinion, \", char_to_idx, idx_to_char, n_chars=15))\n",
    "print(predict_next_chars(model, \"How\", char_to_idx, idx_to_char, n_chars=15))\n"
   ]
  },
  {
   "cell_type": "code",
   "execution_count": 81,
   "metadata": {
    "colab": {
     "base_uri": "https://localhost:8080/"
    },
    "id": "4xH1PlwCnFR9",
    "outputId": "0ad369e6-0d6a-4ba0-ab80-16bd09b88e62"
   },
   "outputs": [
    {
     "name": "stdout",
     "output_type": "stream",
     "text": [
      "Would get i the \n",
      "How does one the sare the t\n",
      "Did she serl tere like\n",
      "What is ' i ' i think \n",
      "I recommend the sare the t\n"
     ]
    }
   ],
   "source": [
    "print(predict_next_chars(model, \"Would \", char_to_idx, idx_to_char, n_chars=10))\n",
    "print(predict_next_chars(model, \"How does one\", char_to_idx, idx_to_char, n_chars=15))\n",
    "print(predict_next_chars(model, \"Did she\", char_to_idx, idx_to_char, n_chars=15))\n",
    "print(predict_next_chars(model, \"What is\", char_to_idx, idx_to_char, n_chars=15))\n",
    "print(predict_next_chars(model, \"I recommend\", char_to_idx, idx_to_char, n_chars=15))\n"
   ]
  },
  {
   "cell_type": "markdown",
   "metadata": {
    "id": "VKeQW0WLZgWg"
   },
   "source": [
    "Vemos que en la mayoria le erra, o al menos no da respuestas en el idioma ingles, parece adivinando, no obstante, vemos que algunas tiene sentido, como:\n",
    "\n",
    "- **opinion**: la secuencia que sigue es `thingh probably`. Quizas quiso predecir Think, lo cual hace sentido.\n",
    "- **Would**: la secuencia que predice el modelo es: `get i the`. Con error gramatical, pero hace sentido en terminos semanticos.\n",
    "- **How does one**: la secuencia que predice el modelo es: `the sare the t`, aunque falte un verbo, parece estar hablando de un sustantivo.\n",
    "- **What is**: predice: ` ' i ' i think `, gramaticalmente correcto e interesante porque parece filosofando."
   ]
  },
  {
   "cell_type": "markdown",
   "metadata": {
    "id": "THHM_DGjcoGP"
   },
   "source": [
    "Algunas opciones para mejorar el modelo son:\n",
    "\n",
    "1. Reintroducir Muestreo con Temperatura\n",
    "La falta de variabilidad en los caracteres puede solucionarse aplicando muestreo estocástico con temperatura, lo que permite generar predicciones menos deterministas.\n",
    "2. Entrenar el Modelo con Más Épocas o Ajustar el Modelo\n",
    "Si el modelo no ha captado patrones más complejos, podrías mejorar los resultados entrenándolo con más épocas o aumentando la complejidad del modelo (más unidades LSTM o capas). Sin embargo, esto requerirá más recursos y tiempo de entrenamiento."
   ]
  }
 ],
 "metadata": {
  "colab": {
   "provenance": []
  },
  "kernelspec": {
   "display_name": "Python 3",
   "name": "python3"
  },
  "language_info": {
   "name": "python"
  }
 },
 "nbformat": 4,
 "nbformat_minor": 0
}
