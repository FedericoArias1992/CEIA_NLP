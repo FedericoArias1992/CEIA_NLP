{
  "cells": [
    {
      "cell_type": "markdown",
      "metadata": {
        "id": "jCKQUrNxFRSy"
      },
      "source": [
        "# CEIA FIUBA LSE\n",
        "- **Materia**: NLP\n",
        "- **Cohorte**: 16\n",
        "- **Alumno**: Federico Arias Suarez\n",
        "- Desafio # 3"
      ]
    },
    {
      "cell_type": "markdown",
      "metadata": {
        "id": "jfn_JgbfFpDA"
      },
      "source": [
        "# Consigna:\n",
        "Utilizar otro dataset y poner en práctica la predicción de próxima palabra\n",
        "\n",
        "El objetivo es utilizar documentos / corpus para crear embeddings de palabras basado en ese contexto utilizando la layer Embedding de Keras. Se utilizará esos embeddings junto con layers LSTM para predeccir la próxima posible palabra.\n",
        "\n",
        "**Detalle Consigna:**\n",
        "- Seleccionar un corpus de texto sobre el cual entrenar el modelo de lenguaje.\n",
        "- Realizar el pre-procesamiento adecuado para tokenizar el corpus, estructurar el dataset y separar entre datos de entrenamiento y validación.\n",
        "- Proponer arquitecturas de redes neuronales basadas en unidades recurrentes para implementar un modelo de lenguaje.\n",
        "- Con el o los modelos que consideren adecuados, generar nuevas secuencias a partir de secuencias de contexto con las estrategias de greedy search y beam search determístico y estocástico. En este último caso observar el efecto de la temperatura en la generación de secuencias."
      ]
    },
    {
      "cell_type": "code",
      "execution_count": null,
      "metadata": {
        "id": "6FZWSk-wERLP"
      },
      "outputs": [],
      "source": [
        "import random\n",
        "import io\n",
        "import pickle\n",
        "\n",
        "import numpy as np\n",
        "import pandas as pd\n",
        "import matplotlib.pyplot as plt\n",
        "import seaborn as sns\n",
        "\n",
        "import torch\n",
        "import torch.nn.functional as F\n",
        "import torch.nn as nn\n",
        "from torch.utils.data import Dataset, DataLoader"
      ]
    },
    {
      "cell_type": "markdown",
      "metadata": {
        "id": "1-rHuTdOH_G5"
      },
      "source": [
        "Para el desafio vamos a usar el dataset:\n",
        "\n",
        "https://www.kaggle.com/datasets/psyflow/reddit-conversation-dataset\n",
        "\n",
        "Que consiste en comentarios en Reddit"
      ]
    },
    {
      "cell_type": "markdown",
      "metadata": {
        "id": "8y99am2lICRS"
      },
      "source": [
        "# Subir kaggle.json a Google Colab:"
      ]
    },
    {
      "cell_type": "code",
      "execution_count": null,
      "metadata": {
        "colab": {
          "base_uri": "https://localhost:8080/",
          "height": 88
        },
        "id": "ccqv16UCGXQv",
        "outputId": "cf6bf44d-e357-4f46-f55d-8f517359b4bf"
      },
      "outputs": [
        {
          "data": {
            "text/html": [
              "\n",
              "     <input type=\"file\" id=\"files-8b9ae15a-e611-41bc-98d6-6234f21530c1\" name=\"files[]\" multiple disabled\n",
              "        style=\"border:none\" />\n",
              "     <output id=\"result-8b9ae15a-e611-41bc-98d6-6234f21530c1\">\n",
              "      Upload widget is only available when the cell has been executed in the\n",
              "      current browser session. Please rerun this cell to enable.\n",
              "      </output>\n",
              "      <script>// Copyright 2017 Google LLC\n",
              "//\n",
              "// Licensed under the Apache License, Version 2.0 (the \"License\");\n",
              "// you may not use this file except in compliance with the License.\n",
              "// You may obtain a copy of the License at\n",
              "//\n",
              "//      http://www.apache.org/licenses/LICENSE-2.0\n",
              "//\n",
              "// Unless required by applicable law or agreed to in writing, software\n",
              "// distributed under the License is distributed on an \"AS IS\" BASIS,\n",
              "// WITHOUT WARRANTIES OR CONDITIONS OF ANY KIND, either express or implied.\n",
              "// See the License for the specific language governing permissions and\n",
              "// limitations under the License.\n",
              "\n",
              "/**\n",
              " * @fileoverview Helpers for google.colab Python module.\n",
              " */\n",
              "(function(scope) {\n",
              "function span(text, styleAttributes = {}) {\n",
              "  const element = document.createElement('span');\n",
              "  element.textContent = text;\n",
              "  for (const key of Object.keys(styleAttributes)) {\n",
              "    element.style[key] = styleAttributes[key];\n",
              "  }\n",
              "  return element;\n",
              "}\n",
              "\n",
              "// Max number of bytes which will be uploaded at a time.\n",
              "const MAX_PAYLOAD_SIZE = 100 * 1024;\n",
              "\n",
              "function _uploadFiles(inputId, outputId) {\n",
              "  const steps = uploadFilesStep(inputId, outputId);\n",
              "  const outputElement = document.getElementById(outputId);\n",
              "  // Cache steps on the outputElement to make it available for the next call\n",
              "  // to uploadFilesContinue from Python.\n",
              "  outputElement.steps = steps;\n",
              "\n",
              "  return _uploadFilesContinue(outputId);\n",
              "}\n",
              "\n",
              "// This is roughly an async generator (not supported in the browser yet),\n",
              "// where there are multiple asynchronous steps and the Python side is going\n",
              "// to poll for completion of each step.\n",
              "// This uses a Promise to block the python side on completion of each step,\n",
              "// then passes the result of the previous step as the input to the next step.\n",
              "function _uploadFilesContinue(outputId) {\n",
              "  const outputElement = document.getElementById(outputId);\n",
              "  const steps = outputElement.steps;\n",
              "\n",
              "  const next = steps.next(outputElement.lastPromiseValue);\n",
              "  return Promise.resolve(next.value.promise).then((value) => {\n",
              "    // Cache the last promise value to make it available to the next\n",
              "    // step of the generator.\n",
              "    outputElement.lastPromiseValue = value;\n",
              "    return next.value.response;\n",
              "  });\n",
              "}\n",
              "\n",
              "/**\n",
              " * Generator function which is called between each async step of the upload\n",
              " * process.\n",
              " * @param {string} inputId Element ID of the input file picker element.\n",
              " * @param {string} outputId Element ID of the output display.\n",
              " * @return {!Iterable<!Object>} Iterable of next steps.\n",
              " */\n",
              "function* uploadFilesStep(inputId, outputId) {\n",
              "  const inputElement = document.getElementById(inputId);\n",
              "  inputElement.disabled = false;\n",
              "\n",
              "  const outputElement = document.getElementById(outputId);\n",
              "  outputElement.innerHTML = '';\n",
              "\n",
              "  const pickedPromise = new Promise((resolve) => {\n",
              "    inputElement.addEventListener('change', (e) => {\n",
              "      resolve(e.target.files);\n",
              "    });\n",
              "  });\n",
              "\n",
              "  const cancel = document.createElement('button');\n",
              "  inputElement.parentElement.appendChild(cancel);\n",
              "  cancel.textContent = 'Cancel upload';\n",
              "  const cancelPromise = new Promise((resolve) => {\n",
              "    cancel.onclick = () => {\n",
              "      resolve(null);\n",
              "    };\n",
              "  });\n",
              "\n",
              "  // Wait for the user to pick the files.\n",
              "  const files = yield {\n",
              "    promise: Promise.race([pickedPromise, cancelPromise]),\n",
              "    response: {\n",
              "      action: 'starting',\n",
              "    }\n",
              "  };\n",
              "\n",
              "  cancel.remove();\n",
              "\n",
              "  // Disable the input element since further picks are not allowed.\n",
              "  inputElement.disabled = true;\n",
              "\n",
              "  if (!files) {\n",
              "    return {\n",
              "      response: {\n",
              "        action: 'complete',\n",
              "      }\n",
              "    };\n",
              "  }\n",
              "\n",
              "  for (const file of files) {\n",
              "    const li = document.createElement('li');\n",
              "    li.append(span(file.name, {fontWeight: 'bold'}));\n",
              "    li.append(span(\n",
              "        `(${file.type || 'n/a'}) - ${file.size} bytes, ` +\n",
              "        `last modified: ${\n",
              "            file.lastModifiedDate ? file.lastModifiedDate.toLocaleDateString() :\n",
              "                                    'n/a'} - `));\n",
              "    const percent = span('0% done');\n",
              "    li.appendChild(percent);\n",
              "\n",
              "    outputElement.appendChild(li);\n",
              "\n",
              "    const fileDataPromise = new Promise((resolve) => {\n",
              "      const reader = new FileReader();\n",
              "      reader.onload = (e) => {\n",
              "        resolve(e.target.result);\n",
              "      };\n",
              "      reader.readAsArrayBuffer(file);\n",
              "    });\n",
              "    // Wait for the data to be ready.\n",
              "    let fileData = yield {\n",
              "      promise: fileDataPromise,\n",
              "      response: {\n",
              "        action: 'continue',\n",
              "      }\n",
              "    };\n",
              "\n",
              "    // Use a chunked sending to avoid message size limits. See b/62115660.\n",
              "    let position = 0;\n",
              "    do {\n",
              "      const length = Math.min(fileData.byteLength - position, MAX_PAYLOAD_SIZE);\n",
              "      const chunk = new Uint8Array(fileData, position, length);\n",
              "      position += length;\n",
              "\n",
              "      const base64 = btoa(String.fromCharCode.apply(null, chunk));\n",
              "      yield {\n",
              "        response: {\n",
              "          action: 'append',\n",
              "          file: file.name,\n",
              "          data: base64,\n",
              "        },\n",
              "      };\n",
              "\n",
              "      let percentDone = fileData.byteLength === 0 ?\n",
              "          100 :\n",
              "          Math.round((position / fileData.byteLength) * 100);\n",
              "      percent.textContent = `${percentDone}% done`;\n",
              "\n",
              "    } while (position < fileData.byteLength);\n",
              "  }\n",
              "\n",
              "  // All done.\n",
              "  yield {\n",
              "    response: {\n",
              "      action: 'complete',\n",
              "    }\n",
              "  };\n",
              "}\n",
              "\n",
              "scope.google = scope.google || {};\n",
              "scope.google.colab = scope.google.colab || {};\n",
              "scope.google.colab._files = {\n",
              "  _uploadFiles,\n",
              "  _uploadFilesContinue,\n",
              "};\n",
              "})(self);\n",
              "</script> "
            ],
            "text/plain": [
              "<IPython.core.display.HTML object>"
            ]
          },
          "metadata": {},
          "output_type": "display_data"
        },
        {
          "name": "stdout",
          "output_type": "stream",
          "text": [
            "Saving kaggle.json to kaggle.json\n"
          ]
        },
        {
          "data": {
            "text/plain": [
              "{'kaggle.json': b'{\"username\":\"federicoa92\",\"key\":\"4313b70cdf8f3f78608e81df85d29b83\"}'}"
            ]
          },
          "execution_count": 2,
          "metadata": {},
          "output_type": "execute_result"
        }
      ],
      "source": [
        "from google.colab import files\n",
        "files.upload()"
      ]
    },
    {
      "cell_type": "code",
      "execution_count": null,
      "metadata": {
        "id": "bA2pSr15IOdq"
      },
      "outputs": [],
      "source": [
        "import os\n",
        "import zipfile\n",
        "\n",
        "# Mueve kaggle.json a la carpeta de configuración de Kaggle\n",
        "!mkdir -p ~/.kaggle\n",
        "!mv kaggle.json ~/.kaggle/\n",
        "!chmod 600 ~/.kaggle/kaggle.json  # Cambia los permisos del archivo\n"
      ]
    },
    {
      "cell_type": "markdown",
      "metadata": {
        "id": "KyO4KwWiIZVu"
      },
      "source": [
        "# Descargar el dataset:"
      ]
    },
    {
      "cell_type": "code",
      "execution_count": null,
      "metadata": {
        "colab": {
          "base_uri": "https://localhost:8080/"
        },
        "collapsed": true,
        "id": "RLwdCiKWIQO9",
        "outputId": "e85d8296-1eca-4ffb-a9a5-c11bbd8ad7b8"
      },
      "outputs": [
        {
          "name": "stdout",
          "output_type": "stream",
          "text": [
            "Dataset URL: https://www.kaggle.com/datasets/psyflow/reddit-conversation-dataset\n",
            "License(s): unknown\n",
            "Downloading reddit-conversation-dataset.zip to /content\n",
            "100% 2.50G/2.51G [00:33<00:00, 137MB/s]\n",
            "100% 2.51G/2.51G [00:33<00:00, 79.4MB/s]\n"
          ]
        }
      ],
      "source": [
        "# Descarga el dataset de Kaggle\n",
        "!kaggle datasets download -d psyflow/reddit-conversation-dataset"
      ]
    },
    {
      "cell_type": "code",
      "execution_count": null,
      "metadata": {
        "id": "DlBJG0usJCRH"
      },
      "outputs": [],
      "source": [
        "# Descomprime el archivo descargado\n",
        "with zipfile.ZipFile(\"reddit-conversation-dataset.zip\", \"r\") as zip_ref:\n",
        "    zip_ref.extractall(\"reddit_conversations\")\n"
      ]
    },
    {
      "cell_type": "code",
      "execution_count": null,
      "metadata": {
        "id": "lI-bCSolJ9eV"
      },
      "outputs": [],
      "source": [
        "# Descomprimimos:\n",
        "import tarfile\n",
        "\n",
        "# Descomprime el archivo .tgz\n",
        "tgz_path = \"reddit_conversations/reddit_conversations_v1.0_3turns.topical.tgz\"\n",
        "with tarfile.open(tgz_path, \"r:gz\") as tar:\n",
        "    tar.extractall(\"reddit_conversations_extracted\")\n",
        "\n",
        "# Ahora puedes explorar los archivos extraídos\n"
      ]
    },
    {
      "cell_type": "code",
      "execution_count": null,
      "metadata": {
        "colab": {
          "base_uri": "https://localhost:8080/"
        },
        "id": "XA7bruKnL7Tq",
        "outputId": "e8b7da21-80c0-4028-c92a-4c74403bda70"
      },
      "outputs": [
        {
          "name": "stdout",
          "output_type": "stream",
          "text": [
            "['if it were just the top line i \\'d give it a thumbs up . no tastiness . no 50 shades of grey thank you .\\ti really like \" steel encased in velvet \" as a simile to be fair .\\tbut is it an apt description of hard - on in your mouth ?\\tlooks like look good love thanks nice great beautiful awesome amazing thank looking cake cool ve man wow bear pretty haha lol right url re know ll damn work job sure got seen kind way picture think happy definitely bears best dude time thing yeah perfect thought better looked gorgeous sweet glad sharing want actually holy makes favorite sounds going hey reminds fantastic hope recipe super incredible pic absolutely delicious making people yes god shit try style kinda maybe tell lovely little probably find face idea sorry feel share day cute enjoy jealous mind post fucking seeing edit need photo', \"if they stopped selling plastic bottles then people would bring their own bottles as like everyone takes water to the park no ?\\thow about selling non plastic bottles ? did that ever occur to you ?\\tare they ever going to consider that ? no . what material other than plastic would you use that people are n't going to litter anyway ?\\tuse oil plastic re buy bags like bag ve stuff trash people food paper work water things good better time works need store garbage right way cheap know hand actually throw years ones ll bottles brand ink want money bottle instead expensive thing sure machine pretty coffee buying extra yeah knives wrap got cans coins going cheaper think makes fine handed cups save soda sugar knife pen costco bad shit left tip waste great lpt free point probably vinegar dollar easier etc printer making glass organic recycling bought cup cost cents grocery products life away usually coconut machines end scissors\", \"pretty sure i listened to a podcast interview with a guy who experinced a similar story . it ended with a sword fight .\\tyou ca nt just talk about a sword fight without providing more details . that 's just not right .\\ti hunted this down just for you . <url>\\tfight batman like fighting superman guy punch beat think re fights people going boxing joker know shit bruce mayweather man way time mcgregor probably ll kill yeah got force pretty fuck actually good mma face death sure fighter right floyd bat best hit gon fucking dude ali martial point ve thing wayne trying head better gets hero getting killed world punches punching let watch mean end lol real guys money match hard win dark life want said maybe knocked fighters punched justice power battle knight ass arts kick need times look fought away beating gotham vader thought saying old opponent\", 'everyone has off days\\twell not everyone but most people do on saturday\\tforgive me brether\\tday days week time work going today year ll weekend tomorrow hours weeks friday night ve month hour good home months like got ago sunday monday early morning saturday new re yesterday late years wait long getting summer right know pretty working hope excited gon schedule july tuesday soon thursday start vacation nice thanks coming end best waiting sure fun tonight great come date probably holiday people later yeah june forward happy better finally wednesday august weekends went october birthday way sounds feel extra hopefully thing lol minutes want awesome yes luck having september maybe actually currently rest life bad', \"no i got the argument , it just was n't a good one .\\tclearly you did n't . it was n't an argument . it was an observation . and ' good ' is a relative concept .\\teh , you were dragging in a topic that barely were related to the discussion at hand to throw shade at dems , so no , not that relative .\\tpeople think re point like argument saying wrong different things mean way know understand agree true comment sense opinion person yes example right human view based evidence said change makes actually definition fact brain thing time means believe exactly sure reason read idea life good logic exist talking argue disagree case matter need want problem difference better simply question sorry ve use mind arguing important explain link arguments science thought understanding trying world statement correct issue society discussion claim completely making possible url aware interesting thinking reality study self having research post bad theory meaning value work context nature non\"]\n",
            "Total de líneas cargadas: 900\n",
            "Tamaño total del texto: 734695 caracteres\n"
          ]
        }
      ],
      "source": [
        "# Ruta al archivo de texto\n",
        "file_path = \"reddit_conversations_extracted/reddit_conversations.3turns.train.topical.txt\"\n",
        "\n",
        "corpus = []\n",
        "#El dataset es MUY grande y siempre colapsa la RAM, asi que vamos a cargar los datos hasta un limite\n",
        "max_lines = 900  # Define el número máximo de líneas (ajusta según tu RAM)\n",
        "max_length = 10**6  # Define la longitud máxima del texto en caracteres (ajusta según tu RAM)\n",
        "current_length = 0  # Inicializa el contador de longitud\n",
        "\n",
        "with open(file_path, 'r') as f:\n",
        "    for line in f:\n",
        "        if len(corpus) >= max_lines or current_length >= max_length:\n",
        "            break  # Detén la carga si alcanzas el límite de líneas o longitud\n",
        "        line = line.strip()\n",
        "        corpus.append(line)\n",
        "        current_length += len(line)\n",
        "\n",
        "# corpus es ahora una lista de líneas, con un tamaño limitado\n",
        "# Puedes concatenar las líneas si necesitas una sola cadena:\n",
        "full_text = \" \".join(corpus)\n",
        "\n",
        "# Ver una muestra del corpus\n",
        "print(corpus[:5])  # Muestra las primeras 5 líneas\n",
        "print(f\"Total de líneas cargadas: {len(corpus)}\")\n",
        "print(f\"Tamaño total del texto: {current_length} caracteres\")\n"
      ]
    },
    {
      "cell_type": "markdown",
      "metadata": {
        "id": "vPJ0kq9UN1D6"
      },
      "source": [
        "# Preprocesamiento:\n",
        "- Hay que transformar las oraciones en tokens. Haremos tokenizacion a nivel caracter.\n",
        "- Dichas oraciones hay que ajustarlas al tamaño fijo de nuestra sentencia de entrada al modelo.\n",
        "- Hay que separar las palabras objetivos (target) que el modelo debe predecir en cada sentencia armada."
      ]
    },
    {
      "cell_type": "code",
      "execution_count": null,
      "metadata": {
        "colab": {
          "base_uri": "https://localhost:8080/"
        },
        "id": "rKIO4Fsj8Oag",
        "outputId": "e3e4115a-9ead-451b-cd69-aa5883524ae0"
      },
      "outputs": [
        {
          "name": "stdout",
          "output_type": "stream",
          "text": [
            "Tamaño del vocabulario (caracteres únicos): 69\n",
            "Ejemplo de índices: [47, 44, 3, 47, 58, 3, 61, 43, 56, 43, 3, 48, 59, 57, 58, 3, 58, 46, 43, 3, 58, 53, 54, 3, 50, 47, 52, 43, 3, 47, 3, 10, 42, 3, 45, 47, 60, 43, 3, 47, 58, 3, 39, 3, 58, 46, 59, 51, 40, 57, 3, 59, 54, 3, 17, 3, 52, 53, 3, 58, 39, 57, 58, 47, 52, 43, 57, 57, 3, 17, 3, 52, 53, 3, 24, 19, 3, 57, 46, 39, 42, 43, 57, 3, 53, 44, 3, 45, 56, 43, 63, 3, 58, 46, 39, 52, 49, 3, 63, 53]\n"
          ]
        }
      ],
      "source": [
        "# Como queremos predecir a nivel de caracteres, primero crearemos un vocabulario con los caracteres únicos en el full_text.\n",
        "# Extrae los caracteres únicos y crea un vocabulario\n",
        "unique_chars = sorted(set(full_text))\n",
        "char_to_idx = {char: idx for idx, char in enumerate(unique_chars)}\n",
        "idx_to_char = {idx: char for idx, char in enumerate(unique_chars)}\n",
        "\n",
        "# Convierte el texto completo a una lista de índices (tokenización por caracteres)\n",
        "text_as_int = [char_to_idx[char] for char in full_text]\n",
        "\n",
        "# Verifica la longitud del vocabulario y algunos ejemplos\n",
        "vocab_size = len(unique_chars)\n",
        "print(f\"Tamaño del vocabulario (caracteres únicos): {vocab_size}\")\n",
        "print(f\"Ejemplo de índices: {text_as_int[:100]}\")\n"
      ]
    },
    {
      "cell_type": "markdown",
      "metadata": {
        "id": "hACF6p-_C36L"
      },
      "source": [
        "Vamos a definir un flujo de trabajo *many to many* tal que para cada secuencia de entrada de longitud m, el modelo también aprenda y predecir una secuencia de salida de longitud n. Esto significa que el modelo aprende a generar varios caracteres en la salida, no solo uno."
      ]
    },
    {
      "cell_type": "code",
      "execution_count": null,
      "metadata": {
        "colab": {
          "base_uri": "https://localhost:8080/"
        },
        "id": "xdw26feK8dJr",
        "outputId": "cc9c80a3-0b6d-40db-a982-e066497a4ed9"
      },
      "outputs": [
        {
          "name": "stdout",
          "output_type": "stream",
          "text": [
            "Número total de secuencias de entrada: 735584\n",
            "Ejemplo de secuencia de entrada: [44, 3, 47, 58, 3, 61, 43, 56, 43, 3]\n",
            "Ejemplo de secuencia de salida: [3, 47, 58, 3, 61, 43, 56, 43, 3, 48, 59, 57, 58, 3]\n"
          ]
        }
      ],
      "source": [
        "# Definiremos las secuencias de entrada y salida basándonos en los valores de m=25 y n=15.\n",
        "# Usaremos ventanas deslizantes para crear cada secuencia de entrada de 25 caracteres y\n",
        "# una secuencia de salida de 15 caracteres, moviendo una posición a la vez para maximizar el número de pares.\n",
        "\n",
        "m = 10  # Longitud de la secuencia de entrada: valor quizas no optimo, pero sino se satura la RAM\n",
        "n = 5  # Longitud de la secuencia de salida: valor quizas no optimo, pero sino se satura la RAM\n",
        "\n",
        "# Prepara las secuencias de entrada y salida\n",
        "input_sequences = []\n",
        "output_sequences = []\n",
        "\n",
        "for i in range(0, len(text_as_int) - m):\n",
        "    # Secuencia de entrada de 'm' caracteres\n",
        "    input_seq = text_as_int[i : i + m]\n",
        "    # Secuencia de salida de 'n' caracteres justo después de la entrada\n",
        "    output_seq = text_as_int[i + 1 : i + m + n]  # Desplaza la salida en n respecto a la entrada\n",
        "\n",
        "    input_sequences.append(input_seq)\n",
        "    output_sequences.append(output_seq)\n",
        "\n",
        "# Muestra algunos ejemplos\n",
        "print(f\"Número total de secuencias de entrada: {len(input_sequences)}\")\n",
        "print(\"Ejemplo de secuencia de entrada:\", input_sequences[1])\n",
        "print(\"Ejemplo de secuencia de salida:\", output_sequences[1])\n"
      ]
    },
    {
      "cell_type": "markdown",
      "metadata": {
        "id": "tHSgXUGaDcIo"
      },
      "source": [
        "Vemos que para cada secuencia, el output_sequences nos entrega los siguientes 10 caracteres."
      ]
    },
    {
      "cell_type": "markdown",
      "metadata": {
        "id": "ojHTK5zn9CLM"
      },
      "source": [
        "# Definimos el Dataset"
      ]
    },
    {
      "cell_type": "code",
      "source": [
        "# Asegúrate de que cada secuencia de salida tenga la misma longitud que m\n",
        "output_sequences = [seq[:m] for seq in output_sequences]  # Trunca o asegura longitud uniforme\n",
        "\n",
        "# Convertir `input_sequences` y `output_sequences` a arrays de NumPy\n",
        "input_sequences = np.array(input_sequences)\n",
        "output_sequences = np.array(output_sequences)\n",
        "\n",
        "print(\"Shape de input_sequences:\", input_sequences.shape)\n",
        "print(\"Shape de output_sequences:\", output_sequences.shape)\n"
      ],
      "metadata": {
        "colab": {
          "base_uri": "https://localhost:8080/"
        },
        "id": "P4lzUj0vHFGb",
        "outputId": "44bad781-5139-4200-cd2f-97b4139520ec"
      },
      "execution_count": 11,
      "outputs": [
        {
          "output_type": "stream",
          "name": "stdout",
          "text": [
            "Shape de input_sequences: (735584, 10)\n",
            "Shape de output_sequences: (735584, 10)\n"
          ]
        }
      ]
    },
    {
      "cell_type": "code",
      "execution_count": 21,
      "metadata": {
        "id": "RzE8FY96FDt9"
      },
      "outputs": [],
      "source": [
        "from tensorflow.keras.utils import to_categorical\n",
        "\n",
        "# Convertir `input_sequences` y `output_sequences` a NumPy arrays\n",
        "input_sequences = np.array(input_sequences)\n",
        "output_sequences = np.array(output_sequences)\n",
        "\n",
        "# Tamaño del vocabulario\n",
        "vocab_size = len(char_to_idx)\n",
        "\n",
        "# Crear un Dataset de TensorFlow\n",
        "dataset = tf.data.Dataset.from_tensor_slices((input_sequences, output_sequences))\n",
        "\n",
        "# Función para aplicar `to_categorical` a `output_sequences` en cada lote\n",
        "def process_output(x, y):\n",
        "    y = tf.keras.utils.to_categorical(y, num_classes=vocab_size)\n",
        "    return x, y\n",
        "\n",
        "# Aplicar el procesamiento por lotes\n",
        "batch_size = 128\n",
        "dataset = dataset.batch(batch_size, drop_remainder=True).map(process_output).prefetch(tf.data.AUTOTUNE)\n",
        "\n",
        "# Dividir el dataset en entrenamiento y validación\n",
        "train_size = int(0.8 * len(input_sequences))\n",
        "train_dataset = dataset.take(train_size)\n",
        "val_dataset = dataset.skip(train_size)\n"
      ]
    },
    {
      "cell_type": "markdown",
      "metadata": {
        "id": "H_X4ypFa9c8G"
      },
      "source": [
        "# Definir la Arquitectura de la RNN con LSTM\n",
        "\n",
        "- **Capa Embedding**: Transformará los índices de caracteres en vectores densos, facilitando que el modelo aprenda relaciones entre caracteres.\n",
        "- **Capas LSTM**: Utilizaremos una o más capas LSTM para capturar la secuencia temporal. Las LSTM son adecuadas aquí debido a su capacidad de recordar información a largo plazo, útil para secuencias de texto.\n",
        "- **Capa Densa de Salida**: Finalmente, una capa densa con activación softmax producirá una distribución de probabilidad sobre los caracteres del vocabulario, permitiendo que el modelo prediga cada carácter en la secuencia de salida."
      ]
    },
    {
      "cell_type": "code",
      "execution_count": 29,
      "metadata": {
        "colab": {
          "base_uri": "https://localhost:8080/",
          "height": 257
        },
        "id": "WtuyF2E29qLg",
        "outputId": "b01a4a0a-7048-4da3-96ca-8536bc76a906"
      },
      "outputs": [
        {
          "output_type": "display_data",
          "data": {
            "text/plain": [
              "\u001b[1mModel: \"sequential_3\"\u001b[0m\n"
            ],
            "text/html": [
              "<pre style=\"white-space:pre;overflow-x:auto;line-height:normal;font-family:Menlo,'DejaVu Sans Mono',consolas,'Courier New',monospace\"><span style=\"font-weight: bold\">Model: \"sequential_3\"</span>\n",
              "</pre>\n"
            ]
          },
          "metadata": {}
        },
        {
          "output_type": "display_data",
          "data": {
            "text/plain": [
              "┏━━━━━━━━━━━━━━━━━━━━━━━━━━━━━━━━━━━━━━┳━━━━━━━━━━━━━━━━━━━━━━━━━━━━━┳━━━━━━━━━━━━━━━━━┓\n",
              "┃\u001b[1m \u001b[0m\u001b[1mLayer (type)                        \u001b[0m\u001b[1m \u001b[0m┃\u001b[1m \u001b[0m\u001b[1mOutput Shape               \u001b[0m\u001b[1m \u001b[0m┃\u001b[1m \u001b[0m\u001b[1m        Param #\u001b[0m\u001b[1m \u001b[0m┃\n",
              "┡━━━━━━━━━━━━━━━━━━━━━━━━━━━━━━━━━━━━━━╇━━━━━━━━━━━━━━━━━━━━━━━━━━━━━╇━━━━━━━━━━━━━━━━━┩\n",
              "│ embedding_3 (\u001b[38;5;33mEmbedding\u001b[0m)              │ ?                           │     \u001b[38;5;34m0\u001b[0m (unbuilt) │\n",
              "├──────────────────────────────────────┼─────────────────────────────┼─────────────────┤\n",
              "│ lstm_6 (\u001b[38;5;33mLSTM\u001b[0m)                        │ ?                           │     \u001b[38;5;34m0\u001b[0m (unbuilt) │\n",
              "├──────────────────────────────────────┼─────────────────────────────┼─────────────────┤\n",
              "│ lstm_7 (\u001b[38;5;33mLSTM\u001b[0m)                        │ ?                           │     \u001b[38;5;34m0\u001b[0m (unbuilt) │\n",
              "├──────────────────────────────────────┼─────────────────────────────┼─────────────────┤\n",
              "│ time_distributed_3 (\u001b[38;5;33mTimeDistributed\u001b[0m) │ ?                           │     \u001b[38;5;34m0\u001b[0m (unbuilt) │\n",
              "└──────────────────────────────────────┴─────────────────────────────┴─────────────────┘\n"
            ],
            "text/html": [
              "<pre style=\"white-space:pre;overflow-x:auto;line-height:normal;font-family:Menlo,'DejaVu Sans Mono',consolas,'Courier New',monospace\">┏━━━━━━━━━━━━━━━━━━━━━━━━━━━━━━━━━━━━━━┳━━━━━━━━━━━━━━━━━━━━━━━━━━━━━┳━━━━━━━━━━━━━━━━━┓\n",
              "┃<span style=\"font-weight: bold\"> Layer (type)                         </span>┃<span style=\"font-weight: bold\"> Output Shape                </span>┃<span style=\"font-weight: bold\">         Param # </span>┃\n",
              "┡━━━━━━━━━━━━━━━━━━━━━━━━━━━━━━━━━━━━━━╇━━━━━━━━━━━━━━━━━━━━━━━━━━━━━╇━━━━━━━━━━━━━━━━━┩\n",
              "│ embedding_3 (<span style=\"color: #0087ff; text-decoration-color: #0087ff\">Embedding</span>)              │ ?                           │     <span style=\"color: #00af00; text-decoration-color: #00af00\">0</span> (unbuilt) │\n",
              "├──────────────────────────────────────┼─────────────────────────────┼─────────────────┤\n",
              "│ lstm_6 (<span style=\"color: #0087ff; text-decoration-color: #0087ff\">LSTM</span>)                        │ ?                           │     <span style=\"color: #00af00; text-decoration-color: #00af00\">0</span> (unbuilt) │\n",
              "├──────────────────────────────────────┼─────────────────────────────┼─────────────────┤\n",
              "│ lstm_7 (<span style=\"color: #0087ff; text-decoration-color: #0087ff\">LSTM</span>)                        │ ?                           │     <span style=\"color: #00af00; text-decoration-color: #00af00\">0</span> (unbuilt) │\n",
              "├──────────────────────────────────────┼─────────────────────────────┼─────────────────┤\n",
              "│ time_distributed_3 (<span style=\"color: #0087ff; text-decoration-color: #0087ff\">TimeDistributed</span>) │ ?                           │     <span style=\"color: #00af00; text-decoration-color: #00af00\">0</span> (unbuilt) │\n",
              "└──────────────────────────────────────┴─────────────────────────────┴─────────────────┘\n",
              "</pre>\n"
            ]
          },
          "metadata": {}
        },
        {
          "output_type": "display_data",
          "data": {
            "text/plain": [
              "\u001b[1m Total params: \u001b[0m\u001b[38;5;34m0\u001b[0m (0.00 B)\n"
            ],
            "text/html": [
              "<pre style=\"white-space:pre;overflow-x:auto;line-height:normal;font-family:Menlo,'DejaVu Sans Mono',consolas,'Courier New',monospace\"><span style=\"font-weight: bold\"> Total params: </span><span style=\"color: #00af00; text-decoration-color: #00af00\">0</span> (0.00 B)\n",
              "</pre>\n"
            ]
          },
          "metadata": {}
        },
        {
          "output_type": "display_data",
          "data": {
            "text/plain": [
              "\u001b[1m Trainable params: \u001b[0m\u001b[38;5;34m0\u001b[0m (0.00 B)\n"
            ],
            "text/html": [
              "<pre style=\"white-space:pre;overflow-x:auto;line-height:normal;font-family:Menlo,'DejaVu Sans Mono',consolas,'Courier New',monospace\"><span style=\"font-weight: bold\"> Trainable params: </span><span style=\"color: #00af00; text-decoration-color: #00af00\">0</span> (0.00 B)\n",
              "</pre>\n"
            ]
          },
          "metadata": {}
        },
        {
          "output_type": "display_data",
          "data": {
            "text/plain": [
              "\u001b[1m Non-trainable params: \u001b[0m\u001b[38;5;34m0\u001b[0m (0.00 B)\n"
            ],
            "text/html": [
              "<pre style=\"white-space:pre;overflow-x:auto;line-height:normal;font-family:Menlo,'DejaVu Sans Mono',consolas,'Courier New',monospace\"><span style=\"font-weight: bold\"> Non-trainable params: </span><span style=\"color: #00af00; text-decoration-color: #00af00\">0</span> (0.00 B)\n",
              "</pre>\n"
            ]
          },
          "metadata": {}
        }
      ],
      "source": [
        "from tensorflow.keras.models import Sequential\n",
        "from tensorflow.keras.layers import Embedding, LSTM, Dense, TimeDistributed\n",
        "\n",
        "vocab_size = len(char_to_idx)  # Tamaño del vocabulario\n",
        "embedding_dim = 64\n",
        "lstm_units = 200\n",
        "\n",
        "model = Sequential([\n",
        "    Embedding(input_dim=vocab_size, output_dim=embedding_dim, input_length=m),\n",
        "    LSTM(units=lstm_units, return_sequences=True),\n",
        "    LSTM(units=lstm_units, return_sequences=True),\n",
        "    TimeDistributed(Dense(units=vocab_size, activation='softmax'))\n",
        "])\n",
        "\n",
        "model.compile(optimizer='adam', loss='categorical_crossentropy', metrics=['accuracy'])\n",
        "model.summary()\n"
      ]
    },
    {
      "cell_type": "code",
      "source": [
        "# Entrena el modelo y almacena el objeto history\n",
        "history = model.fit(\n",
        "    train_dataset,\n",
        "#    validation_data=val_dataset,\n",
        "    epochs=1  # Ajusta el número de épocas según sea necesario\n",
        ")"
      ],
      "metadata": {
        "colab": {
          "base_uri": "https://localhost:8080/"
        },
        "id": "oOt-Z5YYGT3S",
        "outputId": "ed8d8e54-85bf-42e3-84c0-5e27497b098c"
      },
      "execution_count": 36,
      "outputs": [
        {
          "output_type": "stream",
          "name": "stdout",
          "text": [
            "\u001b[1m5746/5746\u001b[0m \u001b[32m━━━━━━━━━━━━━━━━━━━━\u001b[0m\u001b[37m\u001b[0m \u001b[1m1037s\u001b[0m 180ms/step - accuracy: 0.5130 - loss: 1.5419\n"
          ]
        }
      ]
    },
    {
      "cell_type": "code",
      "source": [
        "# Graficamos perplejidad:\n",
        "# Calcula la perplejidad para entrenamiento y validación usando el historial de pérdidas\n",
        "train_perplexities = np.exp(history.history['loss'])\n",
        "#val_perplexities = np.exp(history.history['val_loss'])\n",
        "\n",
        "# Imprime y guarda las perplejidades\n",
        "print(\"Perplejidad de entrenamiento por época:\", train_perplexities)\n",
        "#print(\"Perplejidad de validación por época:\", val_perplexities)\n",
        "\n",
        "# Graficar la perplejidad\n",
        "plt.plot(train_perplexities, label='Perplejidad de entrenamiento')\n",
        "#plt.plot(val_perplexities, label='Perplejidad de validación')\n",
        "plt.xlabel(\"Épocas\")\n",
        "plt.ylabel(\"Perplejidad\")\n",
        "plt.legend()\n",
        "plt.title(\"Perplejidad durante el Entrenamiento\")\n",
        "plt.grid()\n",
        "plt.show()"
      ],
      "metadata": {
        "colab": {
          "base_uri": "https://localhost:8080/",
          "height": 491
        },
        "id": "c6YdcaGVV4Hf",
        "outputId": "275d4a72-ed00-4123-bd97-067429c9b9e5"
      },
      "execution_count": 37,
      "outputs": [
        {
          "output_type": "stream",
          "name": "stdout",
          "text": [
            "Perplejidad de entrenamiento por época: [4.61290618]\n"
          ]
        },
        {
          "output_type": "display_data",
          "data": {
            "text/plain": [
              "<Figure size 640x480 with 1 Axes>"
            ],
            "image/png": "[encoded data removed]"
          },
          "metadata": {}
        }
      ]
    },
    {
      "cell_type": "code",
      "execution_count": 39,
      "metadata": {
        "id": "2lrXcR7enb2b",
        "colab": {
          "base_uri": "https://localhost:8080/"
        },
        "outputId": "daa40db8-b3a6-457e-d889-c033c89150e6"
      },
      "outputs": [
        {
          "output_type": "stream",
          "name": "stderr",
          "text": [
            "WARNING:absl:You are saving your model as an HDF5 file via `model.save()` or `keras.saving.save_model(model)`. This file format is considered legacy. We recommend using instead the native Keras format, e.g. `model.save('my_model.keras')` or `keras.saving.save_model(model, 'my_model.keras')`. \n"
          ]
        }
      ],
      "source": [
        "# Guarda el modelo completo\n",
        "model.save(\"mi_modelo.h5\")"
      ]
    },
    {
      "cell_type": "code",
      "execution_count": null,
      "metadata": {
        "id": "Nz0MiFIS-c0F"
      },
      "outputs": [],
      "source": [
        "from tensorflow.keras.models import load_model\n",
        "\n",
        "# Carga el modelo completo\n",
        "loaded_model = load_model(\"nombre_del_modelo.keras\")\n"
      ]
    },
    {
      "cell_type": "markdown",
      "metadata": {
        "id": "yBbecNfqNMVm"
      },
      "source": [
        "# Predecimos la siguiente secuencia de caracteres:"
      ]
    },
    {
      "cell_type": "code",
      "execution_count": 23,
      "metadata": {
        "id": "XisFWkGeNTRg"
      },
      "outputs": [],
      "source": [
        "def predict_next_chars(model, seed_text, char_to_idx, idx_to_char, n_chars=15):\n",
        "    # Convierte el texto de entrada en una lista de índices\n",
        "    input_indices = [char_to_idx[char] for char in seed_text if char in char_to_idx]\n",
        "\n",
        "    # Asegura que el input sea de longitud `m` para el modelo (completa con espacios si es más corto)\n",
        "    if len(input_indices) < m:\n",
        "        input_indices = [char_to_idx[' ']] * (m - len(input_indices)) + input_indices\n",
        "    else:\n",
        "        input_indices = input_indices[-m:]\n",
        "\n",
        "    # Convierte el input en un array de forma (1, m) para que el modelo lo procese\n",
        "    input_array = np.array(input_indices).reshape(1, -1)\n",
        "\n",
        "    # Genera los siguientes caracteres\n",
        "    generated_text = seed_text\n",
        "    for _ in range(n_chars):\n",
        "        predictions = model.predict(input_array, verbose=0)\n",
        "\n",
        "        # Selecciona el índice de mayor probabilidad para el próximo carácter\n",
        "        next_index = np.argmax(predictions[0, 0])\n",
        "        next_char = idx_to_char[next_index]\n",
        "\n",
        "        # Añade el nuevo carácter al texto generado\n",
        "        generated_text += next_char\n",
        "\n",
        "        # Actualiza el array de input para la próxima predicción\n",
        "        input_indices = input_indices[1:] + [next_index]\n",
        "        input_array = np.array(input_indices).reshape(1, -1)\n",
        "\n",
        "    return generated_text"
      ]
    },
    {
      "cell_type": "code",
      "execution_count": 43,
      "metadata": {
        "colab": {
          "base_uri": "https://localhost:8080/"
        },
        "id": "kOehwGwBNVi_",
        "outputId": "695171a4-390b-4877-f753-06bb284b9a54"
      },
      "outputs": [
        {
          "output_type": "stream",
          "name": "stdout",
          "text": [
            "Are youtttte t nr     \n",
            "Advice tttt eno t    t\n",
            "Howttttttttna     \n"
          ]
        }
      ],
      "source": [
        "# Prueba con las frases proporcionadas\n",
        "print(predict_next_chars(model, \"Are you\", char_to_idx, idx_to_char, n_chars=15))\n",
        "print(predict_next_chars(model, \"Advice \", char_to_idx, idx_to_char, n_chars=15))\n",
        "print(predict_next_chars(model, \"How\", char_to_idx, idx_to_char, n_chars=15))\n"
      ]
    },
    {
      "cell_type": "code",
      "execution_count": 44,
      "metadata": {
        "colab": {
          "base_uri": "https://localhost:8080/"
        },
        "id": "4xH1PlwCnFR9",
        "outputId": "5e54e132-790e-48a8-9c69-428a642805f3"
      },
      "outputs": [
        {
          "output_type": "stream",
          "name": "stdout",
          "text": [
            "Would tttt\n",
            "How does oneat n \n",
            "Did shettttn\n"
          ]
        }
      ],
      "source": [
        "print(predict_next_chars(model, \"Would \", char_to_idx, idx_to_char, n_chars=4))\n",
        "print(predict_next_chars(model, \"How does one\", char_to_idx, idx_to_char, n_chars=5))\n",
        "print(predict_next_chars(model, \"Did she\", char_to_idx, idx_to_char, n_chars=5))\n"
      ]
    },
    {
      "cell_type": "markdown",
      "metadata": {
        "id": "VKeQW0WLZgWg"
      },
      "source": [
        "Vemos que siempre predice `the the the the`"
      ]
    },
    {
      "cell_type": "markdown",
      "metadata": {
        "id": "THHM_DGjcoGP"
      },
      "source": [
        "Algunas opciones para solucionar esto son:\n",
        "\n",
        "1. Reintroducir Muestreo con Temperatura\n",
        "La falta de variabilidad en los caracteres puede solucionarse aplicando muestreo estocástico con temperatura, lo que permite generar predicciones menos deterministas.\n",
        "2. Entrenar el Modelo con Más Épocas o Ajustar el Modelo\n",
        "Si el modelo no ha captado patrones más complejos, podrías mejorar los resultados entrenándolo con más épocas o aumentando la complejidad del modelo (más unidades LSTM o capas). Sin embargo, esto requerirá más recursos y tiempo de entrenamiento."
      ]
    }
  ],
  "metadata": {
    "colab": {
      "provenance": []
    },
    "kernelspec": {
      "display_name": "Python 3",
      "name": "python3"
    },
    "language_info": {
      "name": "python"
    }
  },
  "nbformat": 4,
  "nbformat_minor": 0
}